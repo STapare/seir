{
 "cells": [
  {
   "cell_type": "code",
   "execution_count": null,
   "metadata": {},
   "outputs": [],
   "source": [
    "import numpy as np\n",
    "import sir_ode\n",
    "from scipy.stats import poisson\n",
    "from scipy.stats import norm\n",
    "\n",
    "from scipy.integrate import odeint as ode\n",
    "\n",
    "def NLL(params, data, times): #negative log likelihood\n",
    "\tparams = np.abs(params)\n",
    "\tdata = np.array(data)\n",
    "\tres = ode(sir_ode.model, sir_ode.x0fcn(params,data), times, args=(params,))\n",
    "\ty = sir_ode.yfcn(res, params)\n",
    "\tnll = sum(y) - sum(data*np.log(y))\n",
    "\t# note this is a slightly shortened version--there's an additive constant term missing but it \n",
    "\t# makes calculation faster and won't alter the threshold. Alternatively, can do:\n",
    "\t# nll = -sum(np.log(poisson.pmf(np.round(data),np.round(y)))) # the round is b/c Poisson is for (integer) count data\n",
    "\t# this can also barf if data and y are too far apart because the dpois will be ~0, which makes the log angry\n",
    "\t\n",
    "\t# ML using normally distributed measurement error (least squares)\n",
    "\t# nll = -sum(np.log(norm.pdf(data,y,0.1*np.mean(data)))) # example WLS assuming sigma = 0.1*mean(data)\n",
    "\t# nll = sum((y - data)**2)  # alternatively can do OLS but note this will mess with the thresholds \n",
    "\t#                             for the profile! This version of OLS is off by a scaling factor from\n",
    "\t#                             actual LL units.\n",
    "\treturn nll"
   ]
  }
 ],
 "metadata": {
  "kernelspec": {
   "display_name": "Python 3",
   "language": "python",
   "name": "python3"
  },
  "language_info": {
   "codemirror_mode": {
    "name": "ipython",
    "version": 3
   },
   "file_extension": ".py",
   "mimetype": "text/x-python",
   "name": "python",
   "nbconvert_exporter": "python",
   "pygments_lexer": "ipython3",
   "version": "3.7.3"
  }
 },
 "nbformat": 4,
 "nbformat_minor": 4
}
