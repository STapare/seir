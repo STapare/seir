{
 "cells": [
  {
   "cell_type": "code",
   "execution_count": null,
   "metadata": {},
   "outputs": [],
   "source": [
    "import numpy as np\n",
    "\n",
    "def model(ini, time_step, params):\n",
    "\tY = np.zeros(3) #column vector for the state variables\n",
    "\tX = ini\n",
    "\tmu = 0\n",
    "\tbeta = params[0]\n",
    "\tgamma = params[1]\n",
    "\n",
    "\tY[0] = mu - beta*X[0]*X[1] - mu*X[0] #S\n",
    "\tY[1] = beta*X[0]*X[1] - gamma*X[1] - mu*X[1] #I\n",
    "\tY[2] = gamma*X[1] - mu*X[2] #R\n",
    "\n",
    "\treturn Y\n",
    "\n",
    "def x0fcn(params, data):\n",
    "\tS0 = 1.0 - (data[0]/params[2])\n",
    "\tI0 = data[0]/params[2]\n",
    "\tR0 = 0.0\n",
    "\tX0 = [S0, I0, R0]\n",
    "\n",
    "\treturn X0\n",
    "\n",
    "\n",
    "def yfcn(res, params):\n",
    "\treturn res[:,1]*params[2]"
   ]
  }
 ],
 "metadata": {
  "kernelspec": {
   "display_name": "Python 3",
   "language": "python",
   "name": "python3"
  },
  "language_info": {
   "codemirror_mode": {
    "name": "ipython",
    "version": 3
   },
   "file_extension": ".py",
   "mimetype": "text/x-python",
   "name": "python",
   "nbconvert_exporter": "python",
   "pygments_lexer": "ipython3",
   "version": "3.7.3"
  }
 },
 "nbformat": 4,
 "nbformat_minor": 4
}
