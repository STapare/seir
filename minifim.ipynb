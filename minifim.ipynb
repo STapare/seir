{
 "cells": [
  {
   "cell_type": "code",
   "execution_count": null,
   "metadata": {},
   "outputs": [],
   "source": [
    "import numpy as np\n",
    "import sir_ode\n",
    "\n",
    "from scipy.integrate import odeint as ode\n",
    "\n",
    "def minifisher (times, params, data, delta = 0.001):\n",
    "\t#params = np.array(params)\n",
    "\tlistX = []\n",
    "\tparams_1 = np.array (params)\n",
    "\tparams_2 = np.array (params)\n",
    "\tfor i in range(len(params)):\n",
    "\t\tparams_1[i] = params[i] * (1+delta)\n",
    "\t\tparams_2[i]= params[i] * (1-delta)\n",
    "\n",
    "\t\tres_1 = ode(sir_ode.model, sir_ode.x0fcn(params_1,data), times, args=(params_1,))\n",
    "\t\tres_2 = ode(sir_ode.model, sir_ode.x0fcn(params_2,data), times, args=(params_2,))\n",
    "\t\tsubX = (sir_ode.yfcn(res_1, params_1) - sir_ode.yfcn(res_2, params_2)) / (2 * delta * params[i])\n",
    "\t\tlistX.append(subX.tolist())\n",
    "\tX = np.matrix(listX)\n",
    "\tFIM = np.dot(X, X.transpose())\n",
    "\treturn FIM"
   ]
  }
 ],
 "metadata": {
  "kernelspec": {
   "display_name": "Python 3",
   "language": "python",
   "name": "python3"
  },
  "language_info": {
   "codemirror_mode": {
    "name": "ipython",
    "version": 3
   },
   "file_extension": ".py",
   "mimetype": "text/x-python",
   "name": "python",
   "nbconvert_exporter": "python",
   "pygments_lexer": "ipython3",
   "version": "3.7.3"
  }
 },
 "nbformat": 4,
 "nbformat_minor": 4
}
