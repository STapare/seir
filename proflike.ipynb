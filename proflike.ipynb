{
 "cells": [
  {
   "cell_type": "code",
   "execution_count": null,
   "metadata": {},
   "outputs": [],
   "source": [
    "import numpy as np\n",
    "import scipy.optimize as optimize\n",
    "import copy\n",
    "\n",
    "import sir_ode\n",
    "import sir_cost\n",
    "\n",
    "def proflike (params, profindex, cost_func, times, data, perrange = 0.5, numpoints = 10):\n",
    "\tprofrangedown = np.linspace(params[profindex], params[profindex] * (1 - perrange), numpoints).tolist()\n",
    "\tprofrangeup = np.linspace(params[profindex], params[profindex] * (1 + perrange), numpoints).tolist()[1:] #skip the duplicated values\n",
    "\tprofrange = [profrangedown, profrangeup]\n",
    "\tcurrvals = []\n",
    "\tcurrparams = []\n",
    "\tcurrflags = []\n",
    "\n",
    "\tdef profcost (fit_params, profparam, profindex, data, times, cost_func):\n",
    "\t\tparamstest = fit_params.tolist()\n",
    "\t\tparamstest.insert(profindex, profparam)\n",
    "\t\treturn cost_func (paramstest, data, times)\n",
    "\n",
    "\tfit_params = params.tolist() #make a copy of params so we won't change the origianl list\n",
    "\tfit_params.pop(profindex)\n",
    "\tprint ('Starting profile...')\n",
    "\tfor i in range(len(profrange)):\n",
    "\t\tfor j in profrange[i]:\n",
    "\t\t\tprint i, j\n",
    "\t\t\toptimizer = optimize.minimize(profcost, fit_params, args=(j, profindex, data, times, cost_func), method='Nelder-Mead')\n",
    "\t\t\tfit_params = np.abs(optimizer.x).tolist() #save current fitted params as starting values for next round\n",
    "\t\t\t#print optimizer.fun\n",
    "\t\t\tcurrvals.append(optimizer.fun)\n",
    "\t\t\tcurrflags.append(optimizer.success)\n",
    "\t\t\tcurrparams.append(np.abs(optimizer.x).tolist())\n",
    "\n",
    "\t#structure the return output\n",
    "\tprofrangedown.reverse()\n",
    "\tout_profparam = profrangedown+profrangeup\n",
    "\ttemp_ind = range(len(profrangedown))\n",
    "\ttemp_ind.reverse()\n",
    "\tout_params = [currparams[i] for i in temp_ind]+currparams[len(profrangedown):]\n",
    "\tout_fvals = [currvals[i] for i in temp_ind]+currvals[len(profrangedown):]\n",
    "\tout_flags = [currflags[i] for i in temp_ind]+currflags[len(profrangedown):]\n",
    "\toutput = {'profparam': out_profparam, 'fitparam': np.array(out_params), 'fcnvals': out_fvals, 'convergence': out_flags}\n",
    "\treturn output\n"
   ]
  }
 ],
 "metadata": {
  "kernelspec": {
   "display_name": "Python 3",
   "language": "python",
   "name": "python3"
  },
  "language_info": {
   "codemirror_mode": {
    "name": "ipython",
    "version": 3
   },
   "file_extension": ".py",
   "mimetype": "text/x-python",
   "name": "python",
   "nbconvert_exporter": "python",
   "pygments_lexer": "ipython3",
   "version": "3.7.3"
  }
 },
 "nbformat": 4,
 "nbformat_minor": 4
}
